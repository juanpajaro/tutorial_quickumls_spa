{
 "cells": [
  {
   "cell_type": "code",
   "execution_count": 1,
   "metadata": {},
   "outputs": [
    {
     "data": {
      "text/plain": [
       "'/home/pajaro/tutorial_qumls_ext_1'"
      ]
     },
     "execution_count": 1,
     "metadata": {},
     "output_type": "execute_result"
    }
   ],
   "source": [
    "import os\n",
    "os.getcwd()"
   ]
  },
  {
   "cell_type": "code",
   "execution_count": 2,
   "metadata": {},
   "outputs": [
    {
     "name": "stdout",
     "output_type": "stream",
     "text": [
      "Requirement already satisfied: spacy in ./venv_qumls_ext_4/lib/python3.8/site-packages (3.7.2)\n",
      "Requirement already satisfied: spacy-legacy<3.1.0,>=3.0.11 in ./venv_qumls_ext_4/lib/python3.8/site-packages (from spacy) (3.0.12)\n",
      "Requirement already satisfied: spacy-loggers<2.0.0,>=1.0.0 in ./venv_qumls_ext_4/lib/python3.8/site-packages (from spacy) (1.0.5)\n",
      "Requirement already satisfied: murmurhash<1.1.0,>=0.28.0 in ./venv_qumls_ext_4/lib/python3.8/site-packages (from spacy) (1.0.10)\n",
      "Requirement already satisfied: cymem<2.1.0,>=2.0.2 in ./venv_qumls_ext_4/lib/python3.8/site-packages (from spacy) (2.0.8)\n",
      "Requirement already satisfied: preshed<3.1.0,>=3.0.2 in ./venv_qumls_ext_4/lib/python3.8/site-packages (from spacy) (3.0.9)\n",
      "Requirement already satisfied: thinc<8.3.0,>=8.1.8 in ./venv_qumls_ext_4/lib/python3.8/site-packages (from spacy) (8.1.12)\n",
      "Requirement already satisfied: wasabi<1.2.0,>=0.9.1 in ./venv_qumls_ext_4/lib/python3.8/site-packages (from spacy) (1.1.2)\n",
      "Requirement already satisfied: srsly<3.0.0,>=2.4.3 in ./venv_qumls_ext_4/lib/python3.8/site-packages (from spacy) (2.4.8)\n",
      "Requirement already satisfied: catalogue<2.1.0,>=2.0.6 in ./venv_qumls_ext_4/lib/python3.8/site-packages (from spacy) (2.0.10)\n",
      "Requirement already satisfied: weasel<0.4.0,>=0.1.0 in ./venv_qumls_ext_4/lib/python3.8/site-packages (from spacy) (0.3.4)\n",
      "Requirement already satisfied: typer<0.10.0,>=0.3.0 in ./venv_qumls_ext_4/lib/python3.8/site-packages (from spacy) (0.9.0)\n",
      "Requirement already satisfied: smart-open<7.0.0,>=5.2.1 in ./venv_qumls_ext_4/lib/python3.8/site-packages (from spacy) (6.4.0)\n",
      "Requirement already satisfied: tqdm<5.0.0,>=4.38.0 in ./venv_qumls_ext_4/lib/python3.8/site-packages (from spacy) (4.66.1)\n",
      "Requirement already satisfied: requests<3.0.0,>=2.13.0 in ./venv_qumls_ext_4/lib/python3.8/site-packages (from spacy) (2.31.0)\n",
      "Requirement already satisfied: pydantic!=1.8,!=1.8.1,<3.0.0,>=1.7.4 in ./venv_qumls_ext_4/lib/python3.8/site-packages (from spacy) (1.10.13)\n",
      "Requirement already satisfied: jinja2 in ./venv_qumls_ext_4/lib/python3.8/site-packages (from spacy) (3.1.3)\n",
      "Requirement already satisfied: setuptools in ./venv_qumls_ext_4/lib/python3.8/site-packages (from spacy) (69.0.3)\n",
      "Requirement already satisfied: packaging>=20.0 in ./venv_qumls_ext_4/lib/python3.8/site-packages (from spacy) (23.2)\n",
      "Requirement already satisfied: langcodes<4.0.0,>=3.2.0 in ./venv_qumls_ext_4/lib/python3.8/site-packages (from spacy) (3.3.0)\n",
      "Requirement already satisfied: numpy>=1.15.0 in ./venv_qumls_ext_4/lib/python3.8/site-packages (from spacy) (1.24.3)\n",
      "Requirement already satisfied: typing-extensions>=4.2.0 in ./venv_qumls_ext_4/lib/python3.8/site-packages (from pydantic!=1.8,!=1.8.1,<3.0.0,>=1.7.4->spacy) (4.5.0)\n",
      "Requirement already satisfied: charset-normalizer<4,>=2 in ./venv_qumls_ext_4/lib/python3.8/site-packages (from requests<3.0.0,>=2.13.0->spacy) (3.3.2)\n",
      "Requirement already satisfied: idna<4,>=2.5 in ./venv_qumls_ext_4/lib/python3.8/site-packages (from requests<3.0.0,>=2.13.0->spacy) (3.6)\n",
      "Requirement already satisfied: urllib3<3,>=1.21.1 in ./venv_qumls_ext_4/lib/python3.8/site-packages (from requests<3.0.0,>=2.13.0->spacy) (2.1.0)\n",
      "Requirement already satisfied: certifi>=2017.4.17 in ./venv_qumls_ext_4/lib/python3.8/site-packages (from requests<3.0.0,>=2.13.0->spacy) (2023.11.17)\n",
      "Requirement already satisfied: blis<0.8.0,>=0.7.8 in ./venv_qumls_ext_4/lib/python3.8/site-packages (from thinc<8.3.0,>=8.1.8->spacy) (0.7.11)\n",
      "Requirement already satisfied: confection<1.0.0,>=0.0.1 in ./venv_qumls_ext_4/lib/python3.8/site-packages (from thinc<8.3.0,>=8.1.8->spacy) (0.1.4)\n",
      "Requirement already satisfied: click<9.0.0,>=7.1.1 in ./venv_qumls_ext_4/lib/python3.8/site-packages (from typer<0.10.0,>=0.3.0->spacy) (8.1.7)\n",
      "Requirement already satisfied: cloudpathlib<0.17.0,>=0.7.0 in ./venv_qumls_ext_4/lib/python3.8/site-packages (from weasel<0.4.0,>=0.1.0->spacy) (0.16.0)\n",
      "Requirement already satisfied: MarkupSafe>=2.0 in ./venv_qumls_ext_4/lib/python3.8/site-packages (from jinja2->spacy) (2.1.3)\n"
     ]
    }
   ],
   "source": [
    "#Si aun no se ha instalado spacy es necesario hacerlo\n",
    "#RECUERDA: que la instalación de spacy es despues de la instalación de quickumls\n",
    "!pip install spacy"
   ]
  },
  {
   "cell_type": "code",
   "execution_count": 3,
   "metadata": {},
   "outputs": [
    {
     "name": "stderr",
     "output_type": "stream",
     "text": [
      "2024-02-27 11:33:26.803095: I tensorflow/core/util/port.cc:110] oneDNN custom operations are on. You may see slightly different numerical results due to floating-point round-off errors from different computation orders. To turn them off, set the environment variable `TF_ENABLE_ONEDNN_OPTS=0`.\n",
      "2024-02-27 11:33:26.805617: I tensorflow/tsl/cuda/cudart_stub.cc:28] Could not find cuda drivers on your machine, GPU will not be used.\n",
      "2024-02-27 11:33:26.848495: I tensorflow/tsl/cuda/cudart_stub.cc:28] Could not find cuda drivers on your machine, GPU will not be used.\n",
      "2024-02-27 11:33:26.849726: I tensorflow/core/platform/cpu_feature_guard.cc:182] This TensorFlow binary is optimized to use available CPU instructions in performance-critical operations.\n",
      "To enable the following instructions: AVX2 AVX512F AVX512_VNNI FMA, in other operations, rebuild TensorFlow with the appropriate compiler flags.\n",
      "2024-02-27 11:33:27.404294: W tensorflow/compiler/tf2tensorrt/utils/py_utils.cc:38] TF-TRT Warning: Could not find TensorRT\n"
     ]
    }
   ],
   "source": [
    "import spacy\n",
    "import medspacy\n",
    "from quickumls.spacy_component import SpacyQuickUMLS\n",
    "from medspacy.util import DEFAULT_PIPE_NAMES\n",
    "from medspacy.visualization import visualize_ent"
   ]
  },
  {
   "cell_type": "code",
   "execution_count": 4,
   "metadata": {},
   "outputs": [],
   "source": [
    "# se crea un objeto de la clase SpacyQuickUMLS, en blanco que guardara los pasos del pipeline\n",
    "nlp = spacy.blank('spa')"
   ]
  },
  {
   "cell_type": "code",
   "execution_count": 5,
   "metadata": {},
   "outputs": [
    {
     "data": {
      "text/plain": [
       "[]"
      ]
     },
     "execution_count": 5,
     "metadata": {},
     "output_type": "execute_result"
    }
   ],
   "source": [
    "#se revisa que no existan componentes previos al pipeline\n",
    "nlp.pipe_names"
   ]
  },
  {
   "cell_type": "code",
   "execution_count": 6,
   "metadata": {},
   "outputs": [
    {
     "data": {
      "text/plain": [
       "['attribute_ruler',\n",
       " 'tok2vec',\n",
       " 'merge_noun_chunks',\n",
       " 'merge_entities',\n",
       " 'merge_subtokens',\n",
       " 'token_splitter',\n",
       " 'doc_cleaner',\n",
       " 'parser',\n",
       " 'beam_parser',\n",
       " 'lemmatizer',\n",
       " 'trainable_lemmatizer',\n",
       " 'entity_linker',\n",
       " 'entity_ruler',\n",
       " 'tagger',\n",
       " 'morphologizer',\n",
       " 'ner',\n",
       " 'beam_ner',\n",
       " 'senter',\n",
       " 'sentencizer',\n",
       " 'spancat',\n",
       " 'spancat_singlelabel',\n",
       " 'span_finder',\n",
       " 'future_entity_ruler',\n",
       " 'span_ruler',\n",
       " 'textcat',\n",
       " 'textcat_multilabel',\n",
       " 'medspacy_pyrush',\n",
       " 'medspacy_pysbd',\n",
       " 'medspacy_target_matcher',\n",
       " 'medspacy_concept_tagger',\n",
       " 'medspacy_context',\n",
       " 'medspacy_postprocessor',\n",
       " 'medspacy_sectionizer',\n",
       " 'medspacy_doc_consumer',\n",
       " 'medspacy_pipeline',\n",
       " 'medspacy_quickumls',\n",
       " 'es.lemmatizer']"
      ]
     },
     "execution_count": 6,
     "metadata": {},
     "output_type": "execute_result"
    }
   ],
   "source": [
    "#se revisa que el componente medspacy_quickumls este disponible para su configuración\n",
    "nlp.factory_names"
   ]
  },
  {
   "cell_type": "code",
   "execution_count": 7,
   "metadata": {},
   "outputs": [
    {
     "data": {
      "text/plain": [
       "<PyRuSH.PyRuSHSentencizer.PyRuSHSentencizer at 0x7f0632efdfc0>"
      ]
     },
     "execution_count": 7,
     "metadata": {},
     "output_type": "execute_result"
    }
   ],
   "source": [
    "#se agrega el componente de tokenization al pipeline\n",
    "nlp.add_pipe(\"medspacy_pyrush\")"
   ]
  },
  {
   "cell_type": "code",
   "execution_count": 8,
   "metadata": {},
   "outputs": [
    {
     "data": {
      "text/plain": [
       "<quickumls.spacy_component.SpacyQuickUMLS at 0x7f0632ef64f0>"
      ]
     },
     "execution_count": 8,
     "metadata": {},
     "output_type": "execute_result"
    }
   ],
   "source": [
    "#para cargar de forma especifica los conceptos de UMLs que fueron descomprimidos por metamorphosys en español\n",
    "#notese que las rutas son absolutas y la carpeta de destino debe existir de acuerdo con los pasos previos del tutorial\n",
    "destination_quickumls = '/home/pajaro/tutorial_qumls_ext_1/destination_db_test_6/'\n",
    "nlp.add_pipe('medspacy_quickumls', config={\"quickumls_fp\": destination_quickumls})"
   ]
  },
  {
   "cell_type": "code",
   "execution_count": 9,
   "metadata": {},
   "outputs": [
    {
     "data": {
      "text/plain": [
       "['medspacy_pyrush', 'medspacy_quickumls']"
      ]
     },
     "execution_count": 9,
     "metadata": {},
     "output_type": "execute_result"
    }
   ],
   "source": [
    "# se comprueban los pasos o componentes del pipeline\n",
    "nlp.pipe_names"
   ]
  },
  {
   "cell_type": "code",
   "execution_count": 10,
   "metadata": {},
   "outputs": [
    {
     "data": {
      "text/plain": [
       "['medspacy_pyrush', 'medspacy_quickumls', 'medspacy_context']"
      ]
     },
     "execution_count": 10,
     "metadata": {},
     "output_type": "execute_result"
    }
   ],
   "source": [
    "#se agrega otro compomente al pipeline\n",
    "nlp.add_pipe(\"medspacy_context\")\n",
    "nlp.pipe_names"
   ]
  },
  {
   "cell_type": "code",
   "execution_count": 11,
   "metadata": {},
   "outputs": [
    {
     "name": "stdout",
     "output_type": "stream",
     "text": [
      "Entity text : Fibrilación\n",
      "Label (UMLS CUI) : C0232197\n",
      "Similarity : 0.5833333333333334\n",
      "Semtypes : {'T047'}\n",
      "Entity text : apnea\n",
      "Label (UMLS CUI) : C0003578\n",
      "Similarity : 1.0\n",
      "Semtypes : {'T184'}\n",
      "Entity text : apnea\n",
      "Label (UMLS CUI) : C0003578\n",
      "Similarity : 1.0\n",
      "Semtypes : {'T184'}\n",
      "Entity text : ausencia\n",
      "Label (UMLS CUI) : C0014553\n",
      "Similarity : 1.0\n",
      "Semtypes : {'T047'}\n",
      "Entity text : obesidad\n",
      "Label (UMLS CUI) : C0028754\n",
      "Similarity : 1.0\n",
      "Semtypes : {'T047'}\n",
      "Entity text : hipertensión\n",
      "Label (UMLS CUI) : C1696708\n",
      "Similarity : 0.5\n",
      "Semtypes : {'T047'}\n",
      "Entity text : fiebre\n",
      "Label (UMLS CUI) : C0015967\n",
      "Similarity : 1.0\n",
      "Semtypes : {'T184'}\n",
      "Entity text : Hipertensión secundaria\n",
      "Label (UMLS CUI) : C0155616\n",
      "Similarity : 0.72\n",
      "Semtypes : {'T047'}\n",
      "Entity text : Angina de pecho\n",
      "Label (UMLS CUI) : C0002962\n",
      "Similarity : 1.0\n",
      "Semtypes : {'T184'}\n",
      "Entity text : Infarto agudo al miocardio\n",
      "Label (UMLS CUI) : C0155626\n",
      "Similarity : 0.7407407407407407\n",
      "Semtypes : {'T047'}\n"
     ]
    }
   ],
   "source": [
    "doc = nlp('Fibrilación y aleteo auricular, Ischemic chest pain, nausea, Nausea, vomiting, diarrrhea, sleep apnea, obesity, hypertension, G47.3, absence of apnea del sueño, ausencia de obesidad, hipertensión, Cardiac chest pain, fiebre, vomito, diabetis millitus, Hipertensión secundaria, Angina de pecho, Infarto agudo al miocardio, AOS')\n",
    "\n",
    "for ent in doc.ents:\n",
    "    print('Entity text : {}'.format(ent.text))\n",
    "    print('Label (UMLS CUI) : {}'.format(ent.label_))\n",
    "    print('Similarity : {}'.format(ent._.similarity))\n",
    "    print('Semtypes : {}'.format(ent._.semtypes))"
   ]
  },
  {
   "cell_type": "code",
   "execution_count": 12,
   "metadata": {},
   "outputs": [
    {
     "data": {
      "text/html": [
       "<span class=\"tex2jax_ignore\"><div class=\"entities\" style=\"line-height: 2.5; direction: ltr\">\n",
       "<mark class=\"entity\" style=\"background: #e377c2; padding: 0.45em 0.6em; margin: 0 0.25em; line-height: 1; border-radius: 0.35em;\">\n",
       "    Fibrilación\n",
       "    <span style=\"font-size: 0.8em; font-weight: bold; line-height: 1; border-radius: 0.35em; vertical-align: middle; margin-left: 0.5rem\">C0232197</span>\n",
       "</mark>\n",
       " y aleteo auricular, Ischemic chest pain, nausea, Nausea, vomiting, diarrrhea, sleep \n",
       "<mark class=\"entity\" style=\"background: #bcbd22; padding: 0.45em 0.6em; margin: 0 0.25em; line-height: 1; border-radius: 0.35em;\">\n",
       "    apnea\n",
       "    <span style=\"font-size: 0.8em; font-weight: bold; line-height: 1; border-radius: 0.35em; vertical-align: middle; margin-left: 0.5rem\">C0003578</span>\n",
       "</mark>\n",
       ", obesity, hypertension, G47.3, \n",
       "<mark class=\"entity\" style=\"background: #8c564b; padding: 0.45em 0.6em; margin: 0 0.25em; line-height: 1; border-radius: 0.35em;\">\n",
       "    absence of\n",
       "    <span style=\"font-size: 0.8em; font-weight: bold; line-height: 1; border-radius: 0.35em; vertical-align: middle; margin-left: 0.5rem\">NEGATED_EXISTENCE</span>\n",
       "</mark>\n",
       " \n",
       "<mark class=\"entity\" style=\"background: #bcbd22; padding: 0.45em 0.6em; margin: 0 0.25em; line-height: 1; border-radius: 0.35em;\">\n",
       "    apnea\n",
       "    <span style=\"font-size: 0.8em; font-weight: bold; line-height: 1; border-radius: 0.35em; vertical-align: middle; margin-left: 0.5rem\">C0003578</span>\n",
       "</mark>\n",
       " del sueño, \n",
       "<mark class=\"entity\" style=\"background: #2ca02c; padding: 0.45em 0.6em; margin: 0 0.25em; line-height: 1; border-radius: 0.35em;\">\n",
       "    ausencia\n",
       "    <span style=\"font-size: 0.8em; font-weight: bold; line-height: 1; border-radius: 0.35em; vertical-align: middle; margin-left: 0.5rem\">C0014553</span>\n",
       "</mark>\n",
       " de \n",
       "<mark class=\"entity\" style=\"background: #9467bd; padding: 0.45em 0.6em; margin: 0 0.25em; line-height: 1; border-radius: 0.35em;\">\n",
       "    obesidad\n",
       "    <span style=\"font-size: 0.8em; font-weight: bold; line-height: 1; border-radius: 0.35em; vertical-align: middle; margin-left: 0.5rem\">C0028754</span>\n",
       "</mark>\n",
       ", \n",
       "<mark class=\"entity\" style=\"background: #17becf; padding: 0.45em 0.6em; margin: 0 0.25em; line-height: 1; border-radius: 0.35em;\">\n",
       "    hipertensión\n",
       "    <span style=\"font-size: 0.8em; font-weight: bold; line-height: 1; border-radius: 0.35em; vertical-align: middle; margin-left: 0.5rem\">C1696708</span>\n",
       "</mark>\n",
       ", Cardiac chest pain, \n",
       "<mark class=\"entity\" style=\"background: #7f7f7f; padding: 0.45em 0.6em; margin: 0 0.25em; line-height: 1; border-radius: 0.35em;\">\n",
       "    fiebre\n",
       "    <span style=\"font-size: 0.8em; font-weight: bold; line-height: 1; border-radius: 0.35em; vertical-align: middle; margin-left: 0.5rem\">C0015967</span>\n",
       "</mark>\n",
       ", vomito, diabetis millitus, \n",
       "<mark class=\"entity\" style=\"background: #d62728; padding: 0.45em 0.6em; margin: 0 0.25em; line-height: 1; border-radius: 0.35em;\">\n",
       "    Hipertensión secundaria\n",
       "    <span style=\"font-size: 0.8em; font-weight: bold; line-height: 1; border-radius: 0.35em; vertical-align: middle; margin-left: 0.5rem\">C0155616</span>\n",
       "</mark>\n",
       ", \n",
       "<mark class=\"entity\" style=\"background: #ff7f0e; padding: 0.45em 0.6em; margin: 0 0.25em; line-height: 1; border-radius: 0.35em;\">\n",
       "    Angina de pecho\n",
       "    <span style=\"font-size: 0.8em; font-weight: bold; line-height: 1; border-radius: 0.35em; vertical-align: middle; margin-left: 0.5rem\">C0002962</span>\n",
       "</mark>\n",
       ", \n",
       "<mark class=\"entity\" style=\"background: #1f77b4; padding: 0.45em 0.6em; margin: 0 0.25em; line-height: 1; border-radius: 0.35em;\">\n",
       "    Infarto agudo al miocardio\n",
       "    <span style=\"font-size: 0.8em; font-weight: bold; line-height: 1; border-radius: 0.35em; vertical-align: middle; margin-left: 0.5rem\">C0155626</span>\n",
       "</mark>\n",
       ", AOS</div></span>"
      ],
      "text/plain": [
       "<IPython.core.display.HTML object>"
      ]
     },
     "metadata": {},
     "output_type": "display_data"
    }
   ],
   "source": [
    "visualize_ent(doc)"
   ]
  },
  {
   "cell_type": "code",
   "execution_count": null,
   "metadata": {},
   "outputs": [],
   "source": [
    "#REVISAR el uso de la librería medspacy en detalle en los notebooks sugeridos: https://github.com/medspacy/medspacy/tree/master/notebooks"
   ]
  }
 ],
 "metadata": {
  "kernelspec": {
   "display_name": "venv_qumls_ext_4",
   "language": "python",
   "name": "python3"
  },
  "language_info": {
   "codemirror_mode": {
    "name": "ipython",
    "version": 3
   },
   "file_extension": ".py",
   "mimetype": "text/x-python",
   "name": "python",
   "nbconvert_exporter": "python",
   "pygments_lexer": "ipython3",
   "version": "3.8.10"
  }
 },
 "nbformat": 4,
 "nbformat_minor": 2
}
